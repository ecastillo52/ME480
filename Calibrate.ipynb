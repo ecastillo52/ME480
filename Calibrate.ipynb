{
 "cells": [
  {
   "cell_type": "code",
   "execution_count": 1,
   "metadata": {},
   "outputs": [],
   "source": [
    "from solid import *\n",
    "from solid.utils import *\n",
    "import viewscad\n",
    "from subprocess import run\n",
    "import time as ti\n",
    "\n",
    "r = viewscad.Renderer()"
   ]
  },
  {
   "cell_type": "markdown",
   "metadata": {},
   "source": [
    "# Part I \n",
    "## section a"
   ]
  },
  {
   "cell_type": "code",
   "execution_count": 2,
   "metadata": {},
   "outputs": [
    {
     "data": {
      "application/vnd.jupyter.widget-view+json": {
       "model_id": "3114284048fa488db268000f2a9bd290",
       "version_major": 2,
       "version_minor": 0
      },
      "text/plain": [
       "VBox(children=(HTML(value=''), Renderer(background='#cccc88', background_opacity=0.0, camera=PerspectiveCamera…"
      ]
     },
     "metadata": {},
     "output_type": "display_data"
    },
    {
     "name": "stdout",
     "output_type": "stream",
     "text": [
      "0.9745039939880371\n",
      "\n",
      "\n",
      "difference() {\n",
      "\ttranslate(v = [0, 0, -10]) {\n",
      "\t\tcylinder(h = 20, r = 10);\n",
      "\t}\n",
      "\ttranslate(v = [0, 0, -10.5000000000]) {\n",
      "\t\tcylinder(h = 21, r = 5);\n",
      "\t}\n",
      "}\n"
     ]
    }
   ],
   "source": [
    "t0 = ti.time()\n",
    "\n",
    "c = down(10)(cylinder(r=10, h=20)) - down(10.5)(cylinder(r=5, h=21))\n",
    "\n",
    "r.render(c)\n",
    "\n",
    "t1 = ti.time()\n",
    "t1 = t1-t0\n",
    "\n",
    "print(t1)\n",
    "print(scad_render(c))"
   ]
  },
  {
   "cell_type": "markdown",
   "metadata": {},
   "source": [
    "## Section b"
   ]
  },
  {
   "cell_type": "code",
   "execution_count": 3,
   "metadata": {},
   "outputs": [
    {
     "data": {
      "application/vnd.jupyter.widget-view+json": {
       "model_id": "ba44bb456e734c20bf4e0cb38c2259cb",
       "version_major": 2,
       "version_minor": 0
      },
      "text/plain": [
       "VBox(children=(HTML(value=''), Renderer(background='#cccc88', background_opacity=0.0, camera=PerspectiveCamera…"
      ]
     },
     "metadata": {},
     "output_type": "display_data"
    },
    {
     "name": "stdout",
     "output_type": "stream",
     "text": [
      "3.9841039180755615\n",
      "\n",
      "\n",
      "difference() {\n",
      "\ttranslate(v = [0, 0, -10]) {\n",
      "\t\tcylinder(h = 20, r = 10);\n",
      "\t}\n",
      "\ttranslate(v = [0, 0, -10.5000000000]) {\n",
      "\t\tcylinder(h = 21, r = 5);\n",
      "\t}\n",
      "\trotate(a = 90, v = [0, 1, 0]) {\n",
      "\t\ttranslate(v = [0, 0, -10]) {\n",
      "\t\t\tcylinder(h = 20, r = 5);\n",
      "\t\t}\n",
      "\t}\n",
      "}\n"
     ]
    }
   ],
   "source": [
    "t0 = ti.time()\n",
    "\n",
    "c = down(10)(cylinder(r=10, h=20)) - down(10.5)(cylinder(r=5, h=21))\n",
    "a = down(10)(cylinder(r=5, h=20))\n",
    "d = rotate(a=90, v=[0,1,0])(a)\n",
    "# e = rotate(a=90, v=[1,0,0])(a)\n",
    "# b = rotate(a=90)(d)\n",
    "# b = r.rotate_face_down(a,4)(a)\n",
    "\n",
    "# b = c-d-b\n",
    "# b = c-d-e\n",
    "b = c-d\n",
    "\n",
    "r.render(b)\n",
    "\n",
    "t1 = ti.time()\n",
    "t1 = t1-t0\n",
    "\n",
    "print(t1)\n",
    "print(scad_render(b))"
   ]
  },
  {
   "cell_type": "code",
   "execution_count": 4,
   "metadata": {
    "scrolled": false
   },
   "outputs": [],
   "source": [
    "# t0 = ti.time()\n",
    "\n",
    "# c = down(10)(cylinder(r=10, h=20)) - down(10.5)(cylinder(r=5, h=21))\n",
    "# a = down(15)(cylinder(r=2, h=30))\n",
    "# d = rotate(a=60, v=FORWARD_VEC)(a)\n",
    "# b = rotate(a=45)(d)\n",
    "# q = rotate(a=45)(b)\n",
    "# w = rotate(a=45)(q)\n",
    "# e = rotate(a=45)(w)\n",
    "# t = rotate(a=45)(e)\n",
    "# y = rotate(a=45)(t)\n",
    "# u = rotate(a=45)(y)\n",
    "\n",
    "# b = c-d-b-q-w-e-t-y-u\n",
    "\n",
    "# r.render(b)\n",
    "# # print(scad_render(b))\n",
    "\n",
    "# t1 = ti.time()\n",
    "# t1 = t1-t0\n",
    "# print(t1)"
   ]
  },
  {
   "cell_type": "markdown",
   "metadata": {},
   "source": [
    "## Section c"
   ]
  },
  {
   "cell_type": "code",
   "execution_count": 5,
   "metadata": {},
   "outputs": [
    {
     "data": {
      "application/vnd.jupyter.widget-view+json": {
       "model_id": "4cdcb978f1164dd585aed041d6dec5e1",
       "version_major": 2,
       "version_minor": 0
      },
      "text/plain": [
       "VBox(children=(HTML(value=''), Renderer(background='#cccc88', background_opacity=0.0, camera=PerspectiveCamera…"
      ]
     },
     "metadata": {},
     "output_type": "display_data"
    },
    {
     "name": "stdout",
     "output_type": "stream",
     "text": [
      "2.99718976020813\n",
      "\n",
      "\n",
      "union() {\n",
      "\tdifference() {\n",
      "\t\ttranslate(v = [0, 0, -10]) {\n",
      "\t\t\tcylinder(h = 20, r = 10);\n",
      "\t\t}\n",
      "\t\ttranslate(v = [0, 0, -10.5000000000]) {\n",
      "\t\t\tcylinder(h = 21, r = 5);\n",
      "\t\t}\n",
      "\t}\n",
      "\ttranslate(v = [15, 0, 0]) {\n",
      "\t\tdifference() {\n",
      "\t\t\ttranslate(v = [0, 0, -10]) {\n",
      "\t\t\t\tcylinder(h = 20, r = 10);\n",
      "\t\t\t}\n",
      "\t\t\ttranslate(v = [0, 0, -10.5000000000]) {\n",
      "\t\t\t\tcylinder(h = 21, r = 5);\n",
      "\t\t\t}\n",
      "\t\t}\n",
      "\t}\n",
      "}\n"
     ]
    }
   ],
   "source": [
    "t0 = ti.time()\n",
    "\n",
    "c_1 = c + right(15)(c)\n",
    "r.render(c_1)\n",
    "\n",
    "t1 = ti.time()\n",
    "t1 = t1-t0\n",
    "\n",
    "print(t1)\n",
    "print(scad_render(c_1))"
   ]
  }
 ],
 "metadata": {
  "kernelspec": {
   "display_name": "Python 3",
   "language": "python",
   "name": "python3"
  },
  "language_info": {
   "codemirror_mode": {
    "name": "ipython",
    "version": 3
   },
   "file_extension": ".py",
   "mimetype": "text/x-python",
   "name": "python",
   "nbconvert_exporter": "python",
   "pygments_lexer": "ipython3",
   "version": "3.7.3"
  }
 },
 "nbformat": 4,
 "nbformat_minor": 2
}
