{
 "cells": [
  {
   "cell_type": "markdown",
   "metadata": {},
   "source": [
    "## Section a"
   ]
  },
  {
   "cell_type": "code",
   "execution_count": 1,
   "metadata": {},
   "outputs": [],
   "source": [
    "import numpy as np\n",
    "import math\n",
    "from solid import *\n",
    "from solid.utils import *\n",
    "import viewscad\n",
    "from subprocess import run\n",
    "import time as ti\n",
    "\n",
    "r = viewscad.Renderer()"
   ]
  },
  {
   "cell_type": "markdown",
   "metadata": {},
   "source": [
    "## Section b"
   ]
  },
  {
   "cell_type": "code",
   "execution_count": 2,
   "metadata": {
    "collapsed": true
   },
   "outputs": [
    {
     "data": {
      "application/vnd.jupyter.widget-view+json": {
       "model_id": "b674e95e749a44e9951cc96c07b6916e",
       "version_major": 2,
       "version_minor": 0
      },
      "text/plain": [
       "VBox(children=(HTML(value=''), Renderer(background='#cccc88', background_opacity=0.0, camera=PerspectiveCamera…"
      ]
     },
     "metadata": {},
     "output_type": "display_data"
    },
    {
     "data": {
      "application/vnd.jupyter.widget-view+json": {
       "model_id": "d9df49c25cc74fa5bd34ca7048135197",
       "version_major": 2,
       "version_minor": 0
      },
      "text/plain": [
       "VBox(children=(HTML(value=''), Renderer(background='#cccc88', background_opacity=0.0, camera=PerspectiveCamera…"
      ]
     },
     "metadata": {},
     "output_type": "display_data"
    },
    {
     "data": {
      "application/vnd.jupyter.widget-view+json": {
       "model_id": "f838d552868944a0b8beceb250a31b61",
       "version_major": 2,
       "version_minor": 0
      },
      "text/plain": [
       "VBox(children=(HTML(value=''), Renderer(background='#cccc88', background_opacity=0.0, camera=PerspectiveCamera…"
      ]
     },
     "metadata": {},
     "output_type": "display_data"
    }
   ],
   "source": [
    "c = cube(1, center=True)\n",
    "c = rotate(a=20, v=[0,0,1])(c)\n",
    "c = rotate(a=10, v=[1,0,0])(c)\n",
    "c = rotate(a=30, v=[0,0,1])(c)\n",
    "\n",
    "b = cube(1, center=True)\n",
    "b = right(5)(b)\n",
    "b = forward(5)(b)\n",
    "b = rotate(a=20, v=[0,0,1])(b)\n",
    "b = rotate(a=10, v=[1,0,0])(b)\n",
    "b = rotate(a=30, v=[0,0,1])(b)\n",
    "\n",
    "n = cube(1, center=True)\n",
    "n = rotate(a=20, v=[0,0,1])(n)\n",
    "n = rotate(a=10, v=[1,0,0])(n)\n",
    "n = rotate(a=30, v=[0,0,1])(n)\n",
    "n = right(5)(n)\n",
    "n = forward(5)(n)\n",
    "\n",
    "r.render(c)\n",
    "r.render(b)\n",
    "r.render(n)"
   ]
  },
  {
   "cell_type": "code",
   "execution_count": null,
   "metadata": {},
   "outputs": [],
   "source": []
  }
 ],
 "metadata": {
  "kernelspec": {
   "display_name": "Python 3",
   "language": "python",
   "name": "python3"
  },
  "language_info": {
   "codemirror_mode": {
    "name": "ipython",
    "version": 3
   },
   "file_extension": ".py",
   "mimetype": "text/x-python",
   "name": "python",
   "nbconvert_exporter": "python",
   "pygments_lexer": "ipython3",
   "version": "3.7.3"
  }
 },
 "nbformat": 4,
 "nbformat_minor": 2
}
