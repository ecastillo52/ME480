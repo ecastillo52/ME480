{
 "cells": [
  {
   "cell_type": "code",
   "execution_count": 98,
   "metadata": {},
   "outputs": [
    {
     "name": "stdout",
     "output_type": "stream",
     "text": [
      "\n",
      "\n",
      "difference() {\n",
      "\tcube(size = 10);\n",
      "\tsphere(r = 15);\n",
      "}\n"
     ]
    }
   ],
   "source": [
    "from solid import *\n",
    "from subprocess import run\n",
    "\n",
    "d = difference()(\n",
    "   cube(10),\n",
    "   sphere(15)\n",
    ")\n",
    "\n",
    "print(scad_render(d))\n",
    "# scad_render_to_file(d, 'Test.scad')"
   ]
  }
 ],
 "metadata": {
  "kernelspec": {
   "display_name": "Python 3",
   "language": "python",
   "name": "python3"
  },
  "language_info": {
   "codemirror_mode": {
    "name": "ipython",
    "version": 3
   },
   "file_extension": ".py",
   "mimetype": "text/x-python",
   "name": "python",
   "nbconvert_exporter": "python",
   "pygments_lexer": "ipython3",
   "version": "3.7.3"
  }
 },
 "nbformat": 4,
 "nbformat_minor": 2
}
