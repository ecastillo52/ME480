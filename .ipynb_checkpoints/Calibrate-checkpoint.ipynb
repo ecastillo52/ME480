{
 "cells": [
  {
   "cell_type": "code",
   "execution_count": 1,
   "metadata": {},
   "outputs": [],
   "source": [
    "from solid import *\n",
    "from solid.utils import *\n",
    "import viewscad\n",
    "from subprocess import run\n",
    "import time as ti\n",
    "\n",
    "r = viewscad.Renderer()"
   ]
  },
  {
   "cell_type": "markdown",
   "metadata": {},
   "source": [
    "# Part I \n",
    "## Section a"
   ]
  },
  {
   "cell_type": "code",
   "execution_count": 2,
   "metadata": {},
   "outputs": [
    {
     "data": {
      "application/vnd.jupyter.widget-view+json": {
       "model_id": "d375cdc5dee744be85581d6d4a302b74",
       "version_major": 2,
       "version_minor": 0
      },
      "text/plain": [
       "VBox(children=(HTML(value=''), Renderer(background='#cccc88', background_opacity=0.0, camera=PerspectiveCamera…"
      ]
     },
     "metadata": {},
     "output_type": "display_data"
    },
    {
     "name": "stdout",
     "output_type": "stream",
     "text": [
      "1.1277730464935303\n",
      "\n",
      "\n",
      "difference() {\n",
      "\ttranslate(v = [0, 0, -10]) {\n",
      "\t\tcylinder(h = 20, r = 10);\n",
      "\t}\n",
      "\ttranslate(v = [0, 0, -10.5000000000]) {\n",
      "\t\tcylinder(h = 21, r = 5);\n",
      "\t}\n",
      "}\n"
     ]
    }
   ],
   "source": [
    "t0 = ti.time()\n",
    "\n",
    "c = down(10)(cylinder(r=10, h=20)) - down(10.5)(cylinder(r=5, h=21))\n",
    "\n",
    "r.render(c)\n",
    "\n",
    "t1 = ti.time()\n",
    "t1 = t1-t0\n",
    "\n",
    "print(t1)\n",
    "print(scad_render(c))"
   ]
  },
  {
   "cell_type": "markdown",
   "metadata": {},
   "source": [
    "## Section b"
   ]
  },
  {
   "cell_type": "code",
   "execution_count": 3,
   "metadata": {},
   "outputs": [
    {
     "data": {
      "application/vnd.jupyter.widget-view+json": {
       "model_id": "fd555e181d91422790e6a1780b3535ae",
       "version_major": 2,
       "version_minor": 0
      },
      "text/plain": [
       "VBox(children=(HTML(value=''), Renderer(background='#cccc88', background_opacity=0.0, camera=PerspectiveCamera…"
      ]
     },
     "metadata": {},
     "output_type": "display_data"
    },
    {
     "name": "stdout",
     "output_type": "stream",
     "text": [
      "2.5194287300109863\n",
      "\n",
      "\n",
      "difference() {\n",
      "\ttranslate(v = [0, 0, -10]) {\n",
      "\t\tcylinder(h = 20, r = 10);\n",
      "\t}\n",
      "\ttranslate(v = [0, 0, -10.5000000000]) {\n",
      "\t\tcylinder(h = 21, r = 5);\n",
      "\t}\n",
      "\trotate(a = 90, v = [0, 1, 0]) {\n",
      "\t\ttranslate(v = [0, 0, -10]) {\n",
      "\t\t\tcylinder(h = 20, r = 5);\n",
      "\t\t}\n",
      "\t}\n",
      "}\n"
     ]
    }
   ],
   "source": [
    "t0 = ti.time()\n",
    "\n",
    "c = down(10)(cylinder(r=10, h=20)) - down(10.5)(cylinder(r=5, h=21))\n",
    "a = down(10)(cylinder(r=5, h=20))\n",
    "d = rotate(a=90, v=[0,1,0])(a)\n",
    "# e = rotate(a=90, v=[1,0,0])(a)\n",
    "# b = rotate(a=90)(d)\n",
    "# b = r.rotate_face_down(a,4)(a)\n",
    "\n",
    "# b = c-d-b\n",
    "# b = c-d-e\n",
    "b = c-d\n",
    "\n",
    "r.render(b)\n",
    "\n",
    "t1 = ti.time()\n",
    "t1 = t1-t0\n",
    "\n",
    "print(t1)\n",
    "print(scad_render(b))"
   ]
  },
  {
   "cell_type": "code",
   "execution_count": 12,
   "metadata": {
    "scrolled": false
   },
   "outputs": [
    {
     "data": {
      "application/vnd.jupyter.widget-view+json": {
       "model_id": "7bc3d1b6af6a4c3a8f90fbf61a79c24f",
       "version_major": 2,
       "version_minor": 0
      },
      "text/plain": [
       "VBox(children=(HTML(value=''), Renderer(background='#cccc88', background_opacity=0.0, camera=PerspectiveCamera…"
      ]
     },
     "metadata": {},
     "output_type": "display_data"
    },
    {
     "name": "stdout",
     "output_type": "stream",
     "text": [
      "35.270630836486816\n"
     ]
    }
   ],
   "source": [
    "t0 = ti.time()\n",
    "\n",
    "c = down(10)(cylinder(r=10, h=20)) - down(10.5)(cylinder(r=5, h=21))\n",
    "a = down(15)(cylinder(r=2, h=30))\n",
    "d = rotate(a=60, v=FORWARD_VEC)(a)\n",
    "b = rotate(a=45)(d)\n",
    "q = rotate(a=45)(b)\n",
    "w = rotate(a=45)(q)\n",
    "e = rotate(a=45)(w)\n",
    "t = rotate(a=45)(e)\n",
    "y = rotate(a=45)(t)\n",
    "u = rotate(a=45)(y)\n",
    "\n",
    "b = c-d-b-q-w-e-t-y-u\n",
    "\n",
    "r.render(b)\n",
    "# print(scad_render(b))\n",
    "\n",
    "t1 = ti.time()\n",
    "t1 = t1-t0\n",
    "print(t1)"
   ]
  },
  {
   "cell_type": "markdown",
   "metadata": {},
   "source": [
    "## Section c"
   ]
  },
  {
   "cell_type": "code",
   "execution_count": 5,
   "metadata": {},
   "outputs": [
    {
     "data": {
      "application/vnd.jupyter.widget-view+json": {
       "model_id": "cc9c4759376540e4b5357e08ada825fd",
       "version_major": 2,
       "version_minor": 0
      },
      "text/plain": [
       "VBox(children=(HTML(value=''), Renderer(background='#cccc88', background_opacity=0.0, camera=PerspectiveCamera…"
      ]
     },
     "metadata": {},
     "output_type": "display_data"
    },
    {
     "name": "stdout",
     "output_type": "stream",
     "text": [
      "1.8405420780181885\n",
      "\n",
      "\n",
      "union() {\n",
      "\tdifference() {\n",
      "\t\ttranslate(v = [0, 0, -10]) {\n",
      "\t\t\tcylinder(h = 20, r = 10);\n",
      "\t\t}\n",
      "\t\ttranslate(v = [0, 0, -10.5000000000]) {\n",
      "\t\t\tcylinder(h = 21, r = 5);\n",
      "\t\t}\n",
      "\t}\n",
      "\ttranslate(v = [15, 0, 0]) {\n",
      "\t\tdifference() {\n",
      "\t\t\ttranslate(v = [0, 0, -10]) {\n",
      "\t\t\t\tcylinder(h = 20, r = 10);\n",
      "\t\t\t}\n",
      "\t\t\ttranslate(v = [0, 0, -10.5000000000]) {\n",
      "\t\t\t\tcylinder(h = 21, r = 5);\n",
      "\t\t\t}\n",
      "\t\t}\n",
      "\t}\n",
      "}\n"
     ]
    }
   ],
   "source": [
    "t0 = ti.time()\n",
    "\n",
    "c_1 = c + right(15)(c)\n",
    "r.render(c_1)\n",
    "\n",
    "t1 = ti.time()\n",
    "t1 = t1-t0\n",
    "\n",
    "print(t1)\n",
    "print(scad_render(c_1))"
   ]
  },
  {
   "cell_type": "code",
   "execution_count": 13,
   "metadata": {
    "scrolled": false
   },
   "outputs": [
    {
     "data": {
      "application/vnd.jupyter.widget-view+json": {
       "model_id": "17db477ae3d144fd9cf265553870244a",
       "version_major": 2,
       "version_minor": 0
      },
      "text/plain": [
       "VBox(children=(HTML(value=''), Renderer(background='#cccc88', background_opacity=0.0, camera=PerspectiveCamera…"
      ]
     },
     "metadata": {},
     "output_type": "display_data"
    },
    {
     "name": "stdout",
     "output_type": "stream",
     "text": [
      "\n",
      "\n",
      "minkowski() {\n",
      "\tcube(center = true, size = [20, 1, 1]);\n",
      "\ttranslate(v = [15, 0, 0]) {\n",
      "\t\tcylinder(h = 1, r = 5);\n",
      "\t}\n",
      "}\n"
     ]
    }
   ],
   "source": [
    "test1 = cube(1)\n",
    "test2 = cylinder(r=1, h=1)\n",
    "test = minkowski()(\n",
    "    cube([20,1,1], center=True),\n",
    "    right(15)(cylinder(r=5, h=1))\n",
    ")\n",
    "r.render(test)\n",
    "print(scad_render(test))"
   ]
  },
  {
   "cell_type": "code",
   "execution_count": null,
   "metadata": {},
   "outputs": [],
   "source": []
  }
 ],
 "metadata": {
  "kernelspec": {
   "display_name": "Python 3",
   "language": "python",
   "name": "python3"
  },
  "language_info": {
   "codemirror_mode": {
    "name": "ipython",
    "version": 3
   },
   "file_extension": ".py",
   "mimetype": "text/x-python",
   "name": "python",
   "nbconvert_exporter": "python",
   "pygments_lexer": "ipython3",
   "version": "3.7.3"
  }
 },
 "nbformat": 4,
 "nbformat_minor": 2
}
